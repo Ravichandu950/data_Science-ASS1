{
 "cells": [
  {
   "cell_type": "markdown",
   "id": "841785b2-cbe9-4ddb-b802-b939de569503",
   "metadata": {},
   "source": [
    "## Chisquare test.docx"
   ]
  },
  {
   "cell_type": "markdown",
   "id": "4b0fbb6c-835d-4d8c-9727-c2f07692ad25",
   "metadata": {},
   "source": [
    "## 1.State the Hypothesis"
   ]
  },
  {
   "cell_type": "code",
   "execution_count": 7,
   "id": "05c92385-eac4-4714-99ad-fe3f465e90dc",
   "metadata": {},
   "outputs": [
    {
     "name": "stdout",
     "output_type": "stream",
     "text": [
      "Contingency Table:\n",
      "                  Smart Thermostat  Smart Light\n",
      "Very Satisfied                  50           70\n",
      "Satisfied                       80          100\n",
      "Neutral                         60           90\n",
      "Unsatisfied                     30           50\n",
      "Very Unsatisfied                20           50\n"
     ]
    }
   ],
   "source": [
    "import pandas as pd\n",
    "from scipy.stats import chi2_contingency, chi2\n",
    "data = {\n",
    "    'Smart Thermostat': [50, 80, 60, 30, 20],\n",
    "    'Smart Light': [70, 100, 90, 50,50]\n",
    "}\n",
    "index = ['Very Satisfied', 'Satisfied', 'Neutral', 'Unsatisfied', 'Very Unsatisfied']\n",
    "df = pd.DataFrame(data, index=index)\n",
    "\n",
    "print(\"Contingency Table:\")\n",
    "print(df)"
   ]
  },
  {
   "cell_type": "markdown",
   "id": "81a51189-0346-46d4-97ce-a149d5667a22",
   "metadata": {},
   "source": [
    "## 2.Chi-square Statistic"
   ]
  },
  {
   "cell_type": "code",
   "execution_count": 10,
   "id": "701881f4-2f85-48c3-9cf2-a4a0b8cadaad",
   "metadata": {},
   "outputs": [
    {
     "name": "stdout",
     "output_type": "stream",
     "text": [
      "\n",
      "Chi-Square Statistic: 5.638\n",
      "Degrees of Freedom: 4\n",
      "P-value: 0.2278\n",
      "\n",
      "Expected Frequencies:\n",
      "                  Smart Thermostat  Smart Light\n",
      "Very Satisfied                48.0         72.0\n",
      "Satisfied                     72.0        108.0\n",
      "Neutral                       60.0         90.0\n",
      "Unsatisfied                   32.0         48.0\n",
      "Very Unsatisfied              28.0         42.0\n"
     ]
    }
   ],
   "source": [
    "chi2_stat, p_val, dof, expected = chi2_contingency(df)\n",
    "\n",
    "print(\"\\nChi-Square Statistic:\", round(chi2_stat, 3))\n",
    "print(\"Degrees of Freedom:\", dof)\n",
    "print(\"P-value:\", round(p_val, 4))\n",
    "print(\"\\nExpected Frequencies:\")\n",
    "print(pd.DataFrame(expected, index=index, columns=df.columns))"
   ]
  },
  {
   "cell_type": "markdown",
   "id": "38ea4444-53e1-4559-870d-893fa0bf71f3",
   "metadata": {},
   "source": [
    "## 3.Critical value"
   ]
  },
  {
   "cell_type": "code",
   "execution_count": 13,
   "id": "23385bd2-3e46-470e-bc74-80f7bfdce220",
   "metadata": {},
   "outputs": [
    {
     "name": "stdout",
     "output_type": "stream",
     "text": [
      "\n",
      "Critical Value (α = 0.05): 9.488\n"
     ]
    }
   ],
   "source": [
    "alpha = 0.05  # Significance level\n",
    "critical_value = chi2.ppf(1 - alpha, dof)\n",
    "\n",
    "print(\"\\nCritical Value (α = 0.05):\", round(critical_value, 3))"
   ]
  },
  {
   "cell_type": "markdown",
   "id": "7fb4ba65-155c-419d-802b-4fc60de9adce",
   "metadata": {},
   "source": [
    "## 4.Making Decision"
   ]
  },
  {
   "cell_type": "code",
   "execution_count": 16,
   "id": "809b513f-b432-4cc2-b35c-9302c08a3e16",
   "metadata": {},
   "outputs": [
    {
     "name": "stdout",
     "output_type": "stream",
     "text": [
      "\n",
      "✅ Fail to Reject the Null Hypothesis: No significant association between device type and satisfaction level.\n"
     ]
    }
   ],
   "source": [
    "if chi2_stat > critical_value:\n",
    "    print(\"\\n🚨 Reject the Null Hypothesis: There is a significant association between device type and satisfaction level.\")\n",
    "else:\n",
    "    print(\"\\n✅ Fail to Reject the Null Hypothesis: No significant association between device type and satisfaction level.\")"
   ]
  },
  {
   "cell_type": "markdown",
   "id": "dbc86397-68d4-41b9-8d8a-1a91070d0760",
   "metadata": {},
   "source": [
    "## Conclusion"
   ]
  },
  {
   "cell_type": "code",
   "execution_count": null,
   "id": "501df8d1-bc6c-4a2f-80c8-4ca243688fd5",
   "metadata": {},
   "outputs": [],
   "source": [
    "*Conclusion for the Chi-Square Test\n",
    "Based on the observed and expected frequencies of customer satisfaction levels across two device types (Smart Thermostat and Smart Light), we performed a Chi-Square Test of Independence.\n",
    "\n",
    "Chi-Square Statistic = 5.638\n",
    "\n",
    "Degrees of Freedom = 4\n",
    "\n",
    "Critical Value (at α = 0.05) = 9.488\n",
    "\n",
    "P-value = 0.2278\n",
    "\n",
    "🎯 Interpretation:\n",
    "Since the calculated Chi-Square statistic (5.638) is less than the critical value (9.488) and the p-value (0.2278) is greater than 0.05, we fail to reject the null hypothesis.\n",
    "\n",
    "📌 Final Conclusion:\n",
    "There is no statistically significant association between the type of smart home device (Smart Thermostat or Smart Light) and the customer satisfaction level.\n",
    "\n",
    "In simpler terms, customer satisfaction appears to be independent of the type of device they purchased.\n",
    "\n",
    "\n",
    "\n",
    "\n",
    "\n",
    "\n",
    "\n",
    "\n",
    "\n",
    "\n"
   ]
  },
  {
   "cell_type": "markdown",
   "id": "ab778bcf-48c9-4da1-b637-32a8f1ccd2f9",
   "metadata": {},
   "source": [
    "## Hypthesis Test.Docx"
   ]
  },
  {
   "cell_type": "markdown",
   "id": "7848e406-b9a4-47e3-9d76-ba4db96c1c5f",
   "metadata": {},
   "source": [
    "## 1.State the Hypothesis"
   ]
  },
  {
   "cell_type": "code",
   "execution_count": 21,
   "id": "1598ca6f-ca52-423a-9f79-115f679bf1a1",
   "metadata": {},
   "outputs": [
    {
     "name": "stdout",
     "output_type": "stream",
     "text": [
      "Step 1: Hypothesis Setup\n",
      "H₀: μ = 4000 (The model is accurate)\n",
      "H₁: μ > 4000 (The operating cost is higher than the model predicts)\n"
     ]
    }
   ],
   "source": [
    "sample_mean = 4050  # x̄\n",
    "theoretical_mean = 1000 + 5 * 600  # μ = 4000\n",
    "std_deviation = 5 * 25  # σ = 125\n",
    "sample_size = 25  # n\n",
    "\n",
    "print(\"Step 1: Hypothesis Setup\")\n",
    "print(\"H₀: μ = 4000 (The model is accurate)\")\n",
    "print(\"H₁: μ > 4000 (The operating cost is higher than the model predicts)\")\n"
   ]
  },
  {
   "cell_type": "markdown",
   "id": "f269c0b4-5633-46ce-8293-31958dc10ddd",
   "metadata": {},
   "source": [
    "## 2.Calculate the Test Statistic"
   ]
  },
  {
   "cell_type": "code",
   "execution_count": 24,
   "id": "3b49c26e-706a-40c5-a45f-9bc1771cd50a",
   "metadata": {},
   "outputs": [
    {
     "name": "stdout",
     "output_type": "stream",
     "text": [
      "\n",
      "Step 2: Test Statistic Calculation\n",
      "Z-statistic = (4050 - 4000) / (125 / √25)\n",
      "Z-statistic = 2.0000\n"
     ]
    }
   ],
   "source": [
    "import math\n",
    "numerator = sample_mean - theoretical_mean\n",
    "denominator = std_deviation / math.sqrt(sample_size)\n",
    "z_statistic = numerator / denominator\n",
    "\n",
    "print(\"\\nStep 2: Test Statistic Calculation\")\n",
    "print(f\"Z-statistic = ({sample_mean} - {theoretical_mean}) / ({std_deviation} / √{sample_size})\")\n",
    "print(f\"Z-statistic = {z_statistic:.4f}\")\n"
   ]
  },
  {
   "cell_type": "markdown",
   "id": "d4d980d7-8f88-45be-bd3b-f8dca7969096",
   "metadata": {},
   "source": [
    "## 3.Critical Value"
   ]
  },
  {
   "cell_type": "code",
   "execution_count": 27,
   "id": "739c8a45-4936-413c-abc3-724529d02373",
   "metadata": {},
   "outputs": [
    {
     "name": "stdout",
     "output_type": "stream",
     "text": [
      "\n",
      "Step 3: Critical Value\n",
      "Critical Z-value at α = 0.05 is: 1.6449\n"
     ]
    }
   ],
   "source": [
    "from scipy.stats import norm\n",
    "\n",
    "# Step 3: Determine the critical value for right-tailed test at α = 0.05\n",
    "alpha = 0.05\n",
    "z_critical = norm.ppf(1 - alpha)  # For right-tailed test\n",
    "\n",
    "print(\"\\nStep 3: Critical Value\")\n",
    "print(f\"Critical Z-value at α = {alpha} is: {z_critical:.4f}\")\n"
   ]
  },
  {
   "cell_type": "markdown",
   "id": "a2e73d8d-5910-4ce1-84b9-f8c9ae3e9da6",
   "metadata": {},
   "source": [
    "## 4.Make a Decision"
   ]
  },
  {
   "cell_type": "code",
   "execution_count": 30,
   "id": "19fb6a40-f927-4750-b07e-3c1547b1cefe",
   "metadata": {},
   "outputs": [
    {
     "name": "stdout",
     "output_type": "stream",
     "text": [
      "\n",
      "Step 4: Decision\n",
      "Since Z = 2.0000 ≥ Critical Z = 1.6449, we REJECT the null hypothesis.\n"
     ]
    }
   ],
   "source": [
    "# Step 4: Make a Decision\n",
    "\n",
    "print(\"\\nStep 4: Decision\")\n",
    "if z_statistic >= z_critical:\n",
    "    print(f\"Since Z = {z_statistic:.4f} ≥ Critical Z = {z_critical:.4f}, we REJECT the null hypothesis.\")\n",
    "else:\n",
    "    print(f\"Since Z = {z_statistic:.4f} < Critical Z = {z_critical:.4f}, we FAIL TO REJECT the null hypothesis.\")\n"
   ]
  },
  {
   "cell_type": "markdown",
   "id": "b7dedd35-9a12-41b2-8e65-29ecd9ca9baf",
   "metadata": {},
   "source": [
    "## 5.Conclusion"
   ]
  },
  {
   "cell_type": "code",
   "execution_count": 33,
   "id": "e72761bb-8f2e-4757-9ffc-ecf2e7434ea8",
   "metadata": {},
   "outputs": [
    {
     "name": "stdout",
     "output_type": "stream",
     "text": [
      "\n",
      "Step 5: Conclusion\n",
      "Conclusion:\n",
      "There is strong statistical evidence at the 5% significance level\n",
      "to support the restaurant owners' claim that the actual weekly operating costs\n",
      "are higher than what the cost model (W = $1000 + $5X) suggests.\n"
     ]
    }
   ],
   "source": [
    "# Step 5: Conclusion\n",
    "\n",
    "print(\"\\nStep 5: Conclusion\")\n",
    "print(\"Conclusion:\")\n",
    "print(\"There is strong statistical evidence at the 5% significance level\")\n",
    "print(\"to support the restaurant owners' claim that the actual weekly operating costs\")\n",
    "print(\"are higher than what the cost model (W = $1000 + $5X) suggests.\")\n"
   ]
  },
  {
   "cell_type": "markdown",
   "id": "c222b419-e23d-4150-a484-4a91e1d67b36",
   "metadata": {},
   "source": [
    "## Overall Conclusion and analysis"
   ]
  },
  {
   "cell_type": "code",
   "execution_count": null,
   "id": "ef82912b-0c63-4edc-bc66-6a8720de8afc",
   "metadata": {},
   "outputs": [],
   "source": [
    "✅ Overall Conclusion (In Simple Words)\n",
    "You were testing if the actual weekly cost for running a restaurant is higher than what the company’s cost model predicts.\n",
    "\n",
    "The company’s model says weekly cost should be ₹1000 + ₹5 per unit produced.\n",
    "\n",
    "For 600 units, the predicted cost is ₹4000.\n",
    "\n",
    "You collected data from 25 restaurants, and the average real cost was ₹4050.\n",
    "\n",
    "Using hypothesis testing:\n",
    "\n",
    "You calculated a Z-statistic = 2.0\n",
    "\n",
    "The critical Z-value (at 5% significance) is 1.645\n",
    "\n",
    "🎯 Since 2.0 > 1.645:\n",
    "You rejected the null hypothesis\n",
    "\n",
    "This means your analysis supports the restaurant owners’ claim\n",
    "\n",
    "✅ Final Statement:\n",
    "There is strong evidence to say that the actual operating costs are higher than what the company's model predicts.\n",
    "The current model is outdated or inaccurate, and needs to be revised.\n",
    "\n",
    "\n",
    "\n",
    "\n",
    "\n",
    "\n",
    "\n",
    "\n",
    "\n",
    "\n",
    "\n"
   ]
  },
  {
   "cell_type": "code",
   "execution_count": null,
   "id": "dc65cbb1-2896-4694-b32a-e711f0bcbb98",
   "metadata": {},
   "outputs": [],
   "source": []
  }
 ],
 "metadata": {
  "kernelspec": {
   "display_name": "Python 3 (ipykernel)",
   "language": "python",
   "name": "python3"
  },
  "language_info": {
   "codemirror_mode": {
    "name": "ipython",
    "version": 3
   },
   "file_extension": ".py",
   "mimetype": "text/x-python",
   "name": "python",
   "nbconvert_exporter": "python",
   "pygments_lexer": "ipython3",
   "version": "3.12.4"
  }
 },
 "nbformat": 4,
 "nbformat_minor": 5
}
