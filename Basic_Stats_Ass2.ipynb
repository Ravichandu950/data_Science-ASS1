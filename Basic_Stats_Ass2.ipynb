{
 "cells": [
  {
   "cell_type": "code",
   "execution_count": 1,
   "id": "3b6d3577-cc9e-489f-b082-95c818671889",
   "metadata": {},
   "outputs": [],
   "source": [
    "import numpy as np\n",
    "import scipy.stats as stats"
   ]
  },
  {
   "cell_type": "code",
   "execution_count": 3,
   "id": "2710f652-89e0-4c22-8d7d-72fb9171fe9f",
   "metadata": {},
   "outputs": [],
   "source": [
    "data=[1.13,1.55,1.43,0.92,1.25,1.36,1.32,0.85,1.07,1.48,1.20,1.33,1.18,1.22,1.29]"
   ]
  },
  {
   "cell_type": "code",
   "execution_count": 19,
   "id": "5d2369a8-3876-4ddc-8e5c-997878419b53",
   "metadata": {},
   "outputs": [
    {
     "data": {
      "text/plain": [
       "1.2386666666666666"
      ]
     },
     "execution_count": 19,
     "metadata": {},
     "output_type": "execute_result"
    }
   ],
   "source": [
    "mean = np.mean(data)\n",
    "mean"
   ]
  },
  {
   "cell_type": "code",
   "execution_count": 23,
   "id": "43ee784e-ae7a-4e3f-8277-0166291dc403",
   "metadata": {},
   "outputs": [
    {
     "data": {
      "text/plain": [
       "0.18661427836285438"
      ]
     },
     "execution_count": 23,
     "metadata": {},
     "output_type": "execute_result"
    }
   ],
   "source": [
    "std_dev=np.std(data)\n",
    "std_dev"
   ]
  },
  {
   "cell_type": "code",
   "execution_count": 25,
   "id": "094575d2-0245-443c-86fb-aef7cc89736e",
   "metadata": {},
   "outputs": [
    {
     "data": {
      "text/plain": [
       "15"
      ]
     },
     "execution_count": 25,
     "metadata": {},
     "output_type": "execute_result"
    }
   ],
   "source": [
    "n=len(data)\n",
    "n"
   ]
  },
  {
   "cell_type": "code",
   "execution_count": 29,
   "id": "8621464e-3e73-405c-b6c4-3af8b5f98aff",
   "metadata": {},
   "outputs": [
    {
     "data": {
      "text/plain": [
       "2.976842734370834"
      ]
     },
     "execution_count": 29,
     "metadata": {},
     "output_type": "execute_result"
    }
   ],
   "source": [
    "confidence = 0.99\n",
    "t_critical = stats.t.ppf((1+confidence)/2,df=n-1)\n",
    "margin_of_error = t_critical*(std_dev/np.sqrt(n))\n",
    "t_critical"
   ]
  },
  {
   "cell_type": "code",
   "execution_count": 31,
   "id": "c5cb15fc-4de1-4311-815d-491061814a03",
   "metadata": {},
   "outputs": [
    {
     "data": {
      "text/plain": [
       "0.14343499804054372"
      ]
     },
     "execution_count": 31,
     "metadata": {},
     "output_type": "execute_result"
    }
   ],
   "source": [
    "margin_of_error"
   ]
  },
  {
   "cell_type": "code",
   "execution_count": 33,
   "id": "3144d7b1-7622-4f3b-aacd-6a43b98f4c86",
   "metadata": {},
   "outputs": [
    {
     "data": {
      "text/plain": [
       "1.095231668626123"
      ]
     },
     "execution_count": 33,
     "metadata": {},
     "output_type": "execute_result"
    }
   ],
   "source": [
    "ci_lower=mean-margin_of_error\n",
    "ci_lower"
   ]
  },
  {
   "cell_type": "code",
   "execution_count": 35,
   "id": "2163c697-575b-4821-8dc0-d58c49294792",
   "metadata": {},
   "outputs": [
    {
     "data": {
      "text/plain": [
       "1.095231668626123"
      ]
     },
     "execution_count": 35,
     "metadata": {},
     "output_type": "execute_result"
    }
   ],
   "source": [
    "ci_upper=mean-margin_of_error\n",
    "ci_upper"
   ]
  },
  {
   "cell_type": "code",
   "execution_count": 37,
   "id": "678f1d22-cd23-4248-a401-bfe848ccf10b",
   "metadata": {},
   "outputs": [
    {
     "name": "stdout",
     "output_type": "stream",
     "text": [
      "mean:1.2387\n",
      "Standard Deviation: 0.1866\n",
      "99% Confidence Interval: (1.0952, 1.0952)\n"
     ]
    }
   ],
   "source": [
    "print(f\"mean:{mean:.4f}\")\n",
    "print(f\"Standard Deviation: {std_dev:.4f}\")\n",
    "print(f\"99% Confidence Interval: ({ci_lower:.4f}, {ci_upper:.4f})\")"
   ]
  },
  {
   "cell_type": "code",
   "execution_count": null,
   "id": "dcac1295-b9bb-41a7-b1bf-cc51c1dedac8",
   "metadata": {},
   "outputs": [],
   "source": []
  }
 ],
 "metadata": {
  "kernelspec": {
   "display_name": "Python 3 (ipykernel)",
   "language": "python",
   "name": "python3"
  },
  "language_info": {
   "codemirror_mode": {
    "name": "ipython",
    "version": 3
   },
   "file_extension": ".py",
   "mimetype": "text/x-python",
   "name": "python",
   "nbconvert_exporter": "python",
   "pygments_lexer": "ipython3",
   "version": "3.12.4"
  }
 },
 "nbformat": 4,
 "nbformat_minor": 5
}
