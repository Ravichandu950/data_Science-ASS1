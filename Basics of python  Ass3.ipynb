{
 "cells": [
  {
   "cell_type": "markdown",
   "id": "bbbc79c4-d0e2-42a1-a5e0-72f532e4c1cc",
   "metadata": {},
   "source": [
    "## Exercise 1:Prime Numbers"
   ]
  },
  {
   "cell_type": "code",
   "execution_count": 6,
   "id": "41a35938-0421-40da-ba81-408252e70f12",
   "metadata": {},
   "outputs": [
    {
     "name": "stdin",
     "output_type": "stream",
     "text": [
      "Enter a number:  10\n"
     ]
    },
    {
     "name": "stdout",
     "output_type": "stream",
     "text": [
      "10 is not a prime number.\n"
     ]
    }
   ],
   "source": [
    "num = int(input(\"Enter a number: \"))\n",
    "\n",
    "if num > 1:\n",
    "    for i in range(2, num):\n",
    "        if num % i == 0:\n",
    "            print(num, \"is not a prime number.\")\n",
    "            break\n",
    "    else:\n",
    "        print(num, \"is a prime number.\")\n",
    "else:\n",
    "    print(num, \"is not a prime number.\")\n"
   ]
  },
  {
   "cell_type": "markdown",
   "id": "88029448-65ca-4634-8fa4-326d0bc51987",
   "metadata": {},
   "source": [
    "## Exercise 2:Product of Random Numbers"
   ]
  },
  {
   "cell_type": "code",
   "execution_count": 11,
   "id": "eb07bfbc-f6b2-4fa8-92bd-7f7716010563",
   "metadata": {},
   "outputs": [
    {
     "name": "stdout",
     "output_type": "stream",
     "text": [
      "What is 14 x 13?\n"
     ]
    },
    {
     "name": "stdin",
     "output_type": "stream",
     "text": [
      "Your answer:  182\n"
     ]
    },
    {
     "name": "stdout",
     "output_type": "stream",
     "text": [
      "✅ Correct! Well done.\n"
     ]
    }
   ],
   "source": [
    "import random\n",
    "num1 = random.randint(2, 15)\n",
    "num2 = random.randint(3, 15)\n",
    "print(f\"What is {num1} x {num2}?\")\n",
    "user_answer = int(input(\"Your answer: \"))\n",
    "correct_answer = num1 * num2\n",
    "\n",
    "if user_answer == correct_answer:\n",
    "    print(\"✅ Correct! Well done.\")\n",
    "else:\n",
    "    print(f\"❌ Incorrect. The correct answer is {correct_answer}.\")\n"
   ]
  },
  {
   "cell_type": "markdown",
   "id": "95b6464c-72df-4d5a-a319-280ff7eb3d87",
   "metadata": {},
   "source": [
    "## Exercise 3:Square of Evwn and Odd numbers"
   ]
  },
  {
   "cell_type": "code",
   "execution_count": 24,
   "id": "362ace73-b07e-4e09-8233-248f9aec9dfb",
   "metadata": {},
   "outputs": [
    {
     "name": "stdout",
     "output_type": "stream",
     "text": [
      "Square of 100 is 10000\n",
      "Square of 102 is 10404\n",
      "Square of 104 is 10816\n",
      "Square of 106 is 11236\n",
      "Square of 108 is 11664\n",
      "Square of 110 is 12100\n",
      "Square of 112 is 12544\n",
      "Square of 114 is 12996\n",
      "Square of 116 is 13456\n",
      "Square of 118 is 13924\n",
      "Square of 120 is 14400\n",
      "Square of 122 is 14884\n",
      "Square of 124 is 15376\n",
      "Square of 126 is 15876\n",
      "Square of 128 is 16384\n",
      "Square of 130 is 16900\n",
      "Square of 132 is 17424\n",
      "Square of 134 is 17956\n",
      "Square of 136 is 18496\n",
      "Square of 138 is 19044\n",
      "Square of 140 is 19600\n",
      "Square of 142 is 20164\n",
      "Square of 144 is 20736\n",
      "Square of 146 is 21316\n",
      "Square of 148 is 21904\n",
      "Square of 150 is 22500\n",
      "Square of 152 is 23104\n",
      "Square of 154 is 23716\n",
      "Square of 156 is 24336\n",
      "Square of 158 is 24964\n",
      "Square of 160 is 25600\n",
      "Square of 162 is 26244\n",
      "Square of 164 is 26896\n",
      "Square of 166 is 27556\n",
      "Square of 168 is 28224\n",
      "Square of 170 is 28900\n",
      "Square of 172 is 29584\n",
      "Square of 174 is 30276\n",
      "Square of 176 is 30976\n",
      "Square of 178 is 31684\n",
      "Square of 180 is 32400\n",
      "Square of 182 is 33124\n",
      "Square of 184 is 33856\n",
      "Square of 186 is 34596\n",
      "Square of 188 is 35344\n",
      "Square of 190 is 36100\n",
      "Square of 192 is 36864\n",
      "Square of 194 is 37636\n",
      "Square of 196 is 38416\n",
      "Square of 198 is 39204\n",
      "Square of 200 is 40000\n"
     ]
    }
   ],
   "source": [
    "# for even numbers\n",
    "for num in range(100, 201):\n",
    "    if num % 2 == 0:  \n",
    "        square = num ** 2\n",
    "        print(f\"Square of {num} is {square}\")"
   ]
  },
  {
   "cell_type": "code",
   "execution_count": 22,
   "id": "c57b7634-b927-4bfc-b959-e81a3b8e4191",
   "metadata": {},
   "outputs": [
    {
     "name": "stdout",
     "output_type": "stream",
     "text": [
      "Square of 101 is 10201\n",
      "Square of 103 is 10609\n",
      "Square of 105 is 11025\n",
      "Square of 107 is 11449\n",
      "Square of 109 is 11881\n",
      "Square of 111 is 12321\n",
      "Square of 113 is 12769\n",
      "Square of 115 is 13225\n",
      "Square of 117 is 13689\n",
      "Square of 119 is 14161\n",
      "Square of 121 is 14641\n",
      "Square of 123 is 15129\n",
      "Square of 125 is 15625\n",
      "Square of 127 is 16129\n",
      "Square of 129 is 16641\n",
      "Square of 131 is 17161\n",
      "Square of 133 is 17689\n",
      "Square of 135 is 18225\n",
      "Square of 137 is 18769\n",
      "Square of 139 is 19321\n",
      "Square of 141 is 19881\n",
      "Square of 143 is 20449\n",
      "Square of 145 is 21025\n",
      "Square of 147 is 21609\n",
      "Square of 149 is 22201\n",
      "Square of 151 is 22801\n",
      "Square of 153 is 23409\n",
      "Square of 155 is 24025\n",
      "Square of 157 is 24649\n",
      "Square of 159 is 25281\n",
      "Square of 161 is 25921\n",
      "Square of 163 is 26569\n",
      "Square of 165 is 27225\n",
      "Square of 167 is 27889\n",
      "Square of 169 is 28561\n",
      "Square of 171 is 29241\n",
      "Square of 173 is 29929\n",
      "Square of 175 is 30625\n",
      "Square of 177 is 31329\n",
      "Square of 179 is 32041\n",
      "Square of 181 is 32761\n",
      "Square of 183 is 33489\n",
      "Square of 185 is 34225\n",
      "Square of 187 is 34969\n",
      "Square of 189 is 35721\n",
      "Square of 191 is 36481\n",
      "Square of 193 is 37249\n",
      "Square of 195 is 38025\n",
      "Square of 197 is 38809\n",
      "Square of 199 is 39601\n"
     ]
    }
   ],
   "source": [
    "for num in range(100, 201):\n",
    "    if num % 2 != 0:  \n",
    "        square = num ** 2\n",
    "        print(f\"Square of {num} is {square}\")"
   ]
  },
  {
   "cell_type": "markdown",
   "id": "ecd10087-22c5-4814-a191-908a58feab8c",
   "metadata": {},
   "source": [
    "## Exercise 4:Word Counter"
   ]
  },
  {
   "cell_type": "code",
   "execution_count": 29,
   "id": "cec16286-61aa-4b61-8ae8-b74d31babc51",
   "metadata": {},
   "outputs": [
    {
     "name": "stdin",
     "output_type": "stream",
     "text": [
      "Enter a sentence or paragraph:  don't addict anyone until real one comes\n"
     ]
    },
    {
     "name": "stdout",
     "output_type": "stream",
     "text": [
      "\n",
      "Word Frequency:\n",
      "don't : 1\n",
      "addict : 1\n",
      "anyone : 1\n",
      "until : 1\n",
      "real : 1\n",
      "one : 1\n",
      "comes : 1\n"
     ]
    }
   ],
   "source": [
    "from collections import Counter\n",
    "import string\n",
    "\n",
    "# Get input text from user\n",
    "text = input(\"Enter a sentence or paragraph: \")\n",
    "\n",
    "# Convert text to lowercase and split into words\n",
    "words = text.lower().split()\n",
    "\n",
    "# Remove punctuation from each word\n",
    "words = [word.strip(string.punctuation) for word in words]\n",
    "\n",
    "# Count each word using Counter\n",
    "word_counts = Counter(words)\n",
    "\n",
    "# Display the result\n",
    "print(\"\\nWord Frequency:\")\n",
    "for word, count in word_counts.items():\n",
    "    print(f\"{word} : {count}\")\n"
   ]
  },
  {
   "cell_type": "markdown",
   "id": "0fc43744-3f29-4312-ad55-de6173526f59",
   "metadata": {},
   "source": [
    "## Exercise 5:Check for Palindrome"
   ]
  },
  {
   "cell_type": "code",
   "execution_count": 32,
   "id": "4e74af55-bc8b-4e39-8a8a-54f3c582d3da",
   "metadata": {},
   "outputs": [
    {
     "name": "stdout",
     "output_type": "stream",
     "text": [
      "True\n",
      "True\n",
      "False\n"
     ]
    }
   ],
   "source": [
    "import string\n",
    "\n",
    "def is_palindrome(text):\n",
    "    # Convert to lowercase\n",
    "    text = text.lower()\n",
    "    \n",
    "    # Remove spaces and punctuation\n",
    "    cleaned = ''.join(char for char in text if char.isalnum())\n",
    "    \n",
    "    # Check if cleaned text is equal to its reverse\n",
    "    return cleaned == cleaned[::-1]\n",
    "\n",
    "# Example usage\n",
    "print(is_palindrome(\"Racecar\"))              \n",
    "print(is_palindrome(\"Was it a car or a cat I saw\"))  \n",
    "print(is_palindrome(\"Hello\"))                \n"
   ]
  },
  {
   "cell_type": "code",
   "execution_count": null,
   "id": "2912135f-b830-4e50-9238-d2f1f1fb25fe",
   "metadata": {},
   "outputs": [],
   "source": []
  }
 ],
 "metadata": {
  "kernelspec": {
   "display_name": "Python 3 (ipykernel)",
   "language": "python",
   "name": "python3"
  },
  "language_info": {
   "codemirror_mode": {
    "name": "ipython",
    "version": 3
   },
   "file_extension": ".py",
   "mimetype": "text/x-python",
   "name": "python",
   "nbconvert_exporter": "python",
   "pygments_lexer": "ipython3",
   "version": "3.12.4"
  }
 },
 "nbformat": 4,
 "nbformat_minor": 5
}
